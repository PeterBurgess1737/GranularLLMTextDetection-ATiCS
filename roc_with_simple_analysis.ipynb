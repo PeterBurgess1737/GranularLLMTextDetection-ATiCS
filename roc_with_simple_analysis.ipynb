{
 "cells": [
  {
   "metadata": {},
   "cell_type": "markdown",
   "source": "# ROC With Simple Analysis",
   "id": "d6dd3d49fa5f5298"
  },
  {
   "metadata": {},
   "cell_type": "code",
   "source": [
    "import pathlib\n",
    "import statistics\n",
    "from typing import Literal\n",
    "\n",
    "import matplotlib.pyplot as plt\n",
    "import numpy as np\n",
    "from sklearn.metrics import roc_curve, auc, accuracy_score, precision_score, recall_score, f1_score\n",
    "\n",
    "from scripts.load_working_set import load_working_set\n",
    "\n",
    "print(\"Done\")"
   ],
   "id": "bfe0391978a1339d",
   "outputs": [],
   "execution_count": null
  },
  {
   "metadata": {},
   "cell_type": "markdown",
   "source": "Some constants.",
   "id": "ee4dfb900ae82c4b"
  },
  {
   "metadata": {},
   "cell_type": "code",
   "source": [
    "# The location of the data\n",
    "DATA_DIR = pathlib.Path(\"./data\")\n",
    "if not DATA_DIR.exists():\n",
    "    raise FileNotFoundError(f\"Data directory not found: '{DATA_DIR}'\")\n",
    "\n",
    "# The type of prediction to use\n",
    "# See the cell with `def predict(...)` for the options\n",
    "PREDICTION = \"median\""
   ],
   "id": "ef1e5330c2d9467c",
   "outputs": [],
   "execution_count": null
  },
  {
   "metadata": {},
   "cell_type": "markdown",
   "source": [
    "Each sentence has a list of percentages associated with it.  \n",
    "These need to be collapsed into a single percentage for now.  \n",
    "I will be putting this functionality into a function, so I do not need to hunt for it later on."
   ],
   "id": "ac3166d1fafa416c"
  },
  {
   "metadata": {},
   "cell_type": "code",
   "source": [
    "_predict_types = Literal[\"median\", \"mean\", \"harmonic_mean\"]\n",
    "\n",
    "\n",
    "def predict(l: list[float], _type: _predict_types) -> float:\n",
    "    if _type == \"median\":\n",
    "        return statistics.median(l)\n",
    "    elif _type == \"mean\":\n",
    "        return statistics.mean(l)\n",
    "    elif _type == \"harmonic_mean\":\n",
    "        return statistics.harmonic_mean(l)\n",
    "\n",
    "    raise ValueError(f\"Invalid predict type: {_type}\")\n",
    "\n",
    "\n",
    "print(\"Done\")"
   ],
   "id": "7eca6a11fc12a917",
   "outputs": [],
   "execution_count": null
  },
  {
   "metadata": {},
   "cell_type": "markdown",
   "source": [
    "Preparing our data from the working set.  \n",
    "We create two arrays, one for the predictions and one for reality.  \n",
    "We are using the fine-tuning subset of the working set to acheive this."
   ],
   "id": "69ed1a707c401cc4"
  },
  {
   "metadata": {},
   "cell_type": "code",
   "source": [
    "# Load our data\n",
    "sentence_evaluations, sentence_realities = load_working_set(\"fine-tuning\")\n",
    "\n",
    "# Convert the evaluations into single percentages via either mean or median\n",
    "sentence_predictions: list[float] = []\n",
    "for evaluations in sentence_evaluations:\n",
    "    sentence_predictions.append(predict(evaluations, PREDICTION))\n",
    "\n",
    "print(\"Done\")"
   ],
   "id": "8228cd3339aa3515",
   "outputs": [],
   "execution_count": null
  },
  {
   "metadata": {},
   "cell_type": "markdown",
   "source": "Now onto generating the ROC curve.",
   "id": "5a2e7f94f01ebdd9"
  },
  {
   "metadata": {},
   "cell_type": "code",
   "source": [
    "fpr, tpr, thresholds = roc_curve(sentence_realities, sentence_predictions)\n",
    "roc_auc = auc(fpr, tpr)\n",
    "\n",
    "print(\"Done\")"
   ],
   "id": "29635747a710d55c",
   "outputs": [],
   "execution_count": null
  },
  {
   "metadata": {},
   "cell_type": "markdown",
   "source": "",
   "id": "c46205d59acc0149"
  },
  {
   "metadata": {},
   "cell_type": "markdown",
   "source": [
    "Now we plot the ROC curve.\n",
    "With the best thresholds based of Youden's J statistic."
   ],
   "id": "3829f266b9ba712b"
  },
  {
   "metadata": {},
   "cell_type": "code",
   "source": [
    "# Maximising Youden's J Statistic\n",
    "youden_index = tpr - fpr\n",
    "best_threshold_index = np.argmax(youden_index)\n",
    "best_threshold = thresholds[best_threshold_index]\n",
    "\n",
    "# And plot again\n",
    "plt.figure()\n",
    "plt.plot(fpr, tpr, color=\"darkorange\", lw=2, label=f\"ROC curve (AUROC = {roc_auc:.2f})\")\n",
    "plt.plot([0, 1], [0, 1], color=\"navy\", lw=2, linestyle=\"--\")\n",
    "\n",
    "# Plot the point of the best threshold\n",
    "plt.scatter(fpr[best_threshold_index], tpr[best_threshold_index],\n",
    "            color=\"red\", label=f\"Best Threshold (J={best_threshold:.2f})\")\n",
    "# And draw a vertical line underneath\n",
    "plt.plot([fpr[best_threshold_index], fpr[best_threshold_index]],\n",
    "         [tpr[best_threshold_index], fpr[best_threshold_index]],\n",
    "         \"r--\")\n",
    "\n",
    "plt.xlim([0.0, 1.0])\n",
    "plt.ylim([0.0, 1.05])\n",
    "plt.xlabel(\"False Positive Rate\")\n",
    "plt.ylabel(\"True Positive Rate\")\n",
    "plt.legend(loc=\"lower right\")\n",
    "\n",
    "# Title\n",
    "title = \"Receiver Operating Characteristic (ROC)\"\n",
    "plt.title(title)\n",
    "\n",
    "# Save\n",
    "file = DATA_DIR / (title.replace(\" \", \"_\") + \".png\")\n",
    "plt.savefig(file)\n",
    "\n",
    "# Show\n",
    "plt.show()\n",
    "\n",
    "print(f\"Best threshold = {best_threshold:.2f}\")\n",
    "\n",
    "print(\"Done\")"
   ],
   "id": "f649d6ea1711f60e",
   "outputs": [],
   "execution_count": null
  },
  {
   "metadata": {},
   "cell_type": "markdown",
   "source": "Now, using the threshold calculated above to classify the evaluation set.",
   "id": "1a732f92ac2fa105"
  },
  {
   "metadata": {},
   "cell_type": "code",
   "source": [
    "sentence_evaluations_eval, sentence_realities_eval = load_working_set(\"evaluation\")\n",
    "\n",
    "sentence_predictions_eval: list[float] = []\n",
    "for evaluations in sentence_evaluations_eval:\n",
    "    sentence_predictions_eval.append(predict(evaluations, PREDICTION))\n",
    "\n",
    "# Apply the threshold\n",
    "classified_sentences_eval = [\n",
    "    1 if p >= best_threshold else 0 for p in sentence_predictions_eval\n",
    "]\n",
    "\n",
    "# And calculate some performance metrics\n",
    "accuracy = accuracy_score(sentence_realities_eval, classified_sentences_eval)\n",
    "precision = precision_score(sentence_realities_eval, classified_sentences_eval)\n",
    "recall = recall_score(sentence_realities_eval, classified_sentences_eval)\n",
    "f1 = f1_score(sentence_realities_eval, classified_sentences_eval)\n",
    "\n",
    "# Tells us the secrets\n",
    "print(f\"For threshold {best_threshold:.2f}\\n\")\n",
    "print(f\"\\tAccuracy:  {accuracy:.2f}\")\n",
    "print(f\"\\tPrecision: {precision:.2f}\")\n",
    "print(f\"\\tRecall:    {recall:.2f}\")\n",
    "print(f\"\\tF1 Score:  {f1:.2f}\")\n",
    "\n",
    "# Create a simple file to store the data\n",
    "data_dir = pathlib.Path(\"./data\")\n",
    "if not data_dir.exists():\n",
    "    # This should never happen if the code reaches here\n",
    "    # Well, unless you delete the dir yourself, please don't\n",
    "    raise FileNotFoundError(f\"Could not find data directory at {data_dir}\")\n",
    "\n",
    "results_file = data_dir / \"roc_simple_results.txt\"\n",
    "with results_file.open(\"w\") as f:\n",
    "    print(f\"Using analysis function '{PREDICTION}'\", file=f)\n",
    "    print(f\"Best threshold {best_threshold:.2f}\\n\", file=f)\n",
    "    print(f\"\\tAccuracy:  {accuracy:.2f}\", file=f)\n",
    "    print(f\"\\tPrecision: {precision:.2f}\", file=f)\n",
    "    print(f\"\\tRecall:    {recall:.2f}\", file=f)\n",
    "    print(f\"\\tF1 Score:  {f1:.2f}\", file=f)\n",
    "\n",
    "print()\n",
    "print(\"Done\")"
   ],
   "id": "6fa0fa481ec30029",
   "outputs": [],
   "execution_count": null
  }
 ],
 "metadata": {
  "kernelspec": {
   "display_name": "Python 3",
   "language": "python",
   "name": "python3"
  },
  "language_info": {
   "codemirror_mode": {
    "name": "ipython",
    "version": 2
   },
   "file_extension": ".py",
   "mimetype": "text/x-python",
   "name": "python",
   "nbconvert_exporter": "python",
   "pygments_lexer": "ipython2",
   "version": "2.7.6"
  }
 },
 "nbformat": 4,
 "nbformat_minor": 5
}
